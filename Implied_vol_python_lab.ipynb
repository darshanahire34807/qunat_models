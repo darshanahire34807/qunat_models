{
 "cells": [
  {
   "cell_type": "code",
   "execution_count": 1,
   "metadata": {},
   "outputs": [],
   "source": [
    "import pandas as pd\n",
    "from numpy import *\n",
    "from datetime import datetime\n",
    "from tabulate import tabulate\n",
    "from bsmiv import OptionInputs, BlackScholesOptionPricing"
   ]
  },
  {
   "cell_type": "code",
   "execution_count": 13,
   "metadata": {},
   "outputs": [],
   "source": [
    "def newton_iv(spot, strike, rate, dte, callprice=None, putprice=None):\n",
    "    x0 = 1.\n",
    "    h = 0.01\n",
    "    tolerenace = 1e-7\n",
    "    epsilon = 1e-14\n",
    "    maxiter = 200\n",
    "\n",
    "\n",
    "    if callprice:\n",
    "        f = lambda x: BlackScholesOptionPricing(OptionInputs(\n",
    "            spot=spot, \n",
    "            strike=strike, \n",
    "            rate=rate, \n",
    "            ttm=dte, \n",
    "            volatility=x\n",
    "        )\n",
    "    ).call_price - callprice\n",
    "        \n",
    "    if putprice:\n",
    "        f = lambda x: BlackScholesOptionPricing(OptionInputs(\n",
    "            spot=spot, \n",
    "            strike=strike, \n",
    "            rate=rate, \n",
    "            ttm=dte, \n",
    "            volatility=x\n",
    "        )\n",
    "    ).put_price - putprice\n",
    "\n",
    "    for i in range (maxiter):\n",
    "        y = f(x0)\n",
    "        yprime = (f(x0+h) - f(x0-h))/(2*h)\n",
    "\n",
    "        if abs(yprime)<epsilon:\n",
    "            break\n",
    "\n",
    "        x1 = x0 - y/yprime\n",
    "\n",
    "        if (abs(x1 - x0)) <= tolerenace*abs(x1):\n",
    "            break\n",
    "\n",
    "        x0 = x1\n",
    "\n",
    "    return(x1)\n"
   ]
  },
  {
   "cell_type": "code",
   "execution_count": 14,
   "metadata": {},
   "outputs": [
    {
     "data": {
      "text/plain": [
       "0.13377582589298717"
      ]
     },
     "execution_count": 14,
     "metadata": {},
     "output_type": "execute_result"
    }
   ],
   "source": [
    "newton_iv(100,100,0.05,1,callprice=8)"
   ]
  },
  {
   "cell_type": "code",
   "execution_count": 17,
   "metadata": {},
   "outputs": [
    {
     "data": {
      "text/plain": [
       "0.3170185859464639"
      ]
     },
     "execution_count": 17,
     "metadata": {},
     "output_type": "execute_result"
    }
   ],
   "source": [
    "newton_iv(100,100,0.05,1,putprice=10)"
   ]
  },
  {
   "cell_type": "code",
   "execution_count": 12,
   "metadata": {},
   "outputs": [
    {
     "data": {
      "text/plain": [
       "8.000000000124928"
      ]
     },
     "execution_count": 12,
     "metadata": {},
     "output_type": "execute_result"
    }
   ],
   "source": [
    "#to veryfy the output, the price of the call option calculated by BSM should be close to 8\n",
    "\n",
    "BlackScholesOptionPricing(OptionInputs(spot = 100, strike=100, rate = 0.05, ttm = 1, volatility=0.13377582589298717)).call_price"
   ]
  },
  {
   "cell_type": "code",
   "execution_count": 19,
   "metadata": {},
   "outputs": [
    {
     "data": {
      "text/plain": [
       "10.000000000000384"
      ]
     },
     "execution_count": 19,
     "metadata": {},
     "output_type": "execute_result"
    }
   ],
   "source": [
    "BlackScholesOptionPricing(OptionInputs(spot = 100, strike=100, rate = 0.05, ttm = 1, volatility=0.3170185859464639)).put_price"
   ]
  },
  {
   "cell_type": "markdown",
   "metadata": {},
   "source": [
    "## Bisection Method\n",
    "\n",
    "The bisection method is considered to be one of the simplest and robust root finding algorithm. \n",
    "\n",
    "Suppose, we know the two points of an interval $a$ and $b$, where $a < b$ and $f(a)<0$ and $f(b)>0$ ;ie along the continuous function and the midpoint of this interval is $\\frac{a+b}{2}$, then we can evaluate the value as $f(c)$\n",
    "Iteratively, we replace $c$ as either $ a $ or $ b $, thereby shortening the interval to find the root. If $ f(c) = 0 $ or within an acceptable value, we have a root. Bisection methods are stable and guarantee to converge. As it does not require knowledge of the derivative, it takes more computational time."
   ]
  },
  {
   "cell_type": "code",
   "execution_count": 37,
   "metadata": {},
   "outputs": [],
   "source": [
    "def bisection_iv(spot, strike, rate, dte, callprice, putprice, b = 2.0, a = 0.0):\n",
    "\n",
    "    tolerance = 1e-7\n",
    "\n",
    "    #this is market price\n",
    "    price = callprice if callprice else putprice\n",
    "\n",
    "    for _ in range (1000):\n",
    "        mid = (b+a)/2\n",
    "\n",
    "        if mid < tolerance:\n",
    "            break\n",
    "\n",
    "\n",
    "        if callprice:\n",
    "            estimate = BlackScholesOptionPricing(\n",
    "                OptionInputs(\n",
    "                    spot=spot, \n",
    "                    strike=strike, \n",
    "                    rate=rate, \n",
    "                    ttm=dte, \n",
    "                    volatility=mid\n",
    "                )\n",
    "            ).call_price\n",
    "            \n",
    "        if putprice:\n",
    "            estimate = BlackScholesOptionPricing(\n",
    "                OptionInputs(\n",
    "                    spot=spot, \n",
    "                    strike=strike, \n",
    "                    rate=rate, \n",
    "                    ttm=dte, \n",
    "                    volatility=mid\n",
    "                )\n",
    "            ).put_price\n",
    "            \n",
    "        if round(estimate,7) == price:\n",
    "            break\n",
    "        elif estimate > price:\n",
    "            b=mid\n",
    "        elif estimate < price:\n",
    "            a=mid\n",
    "\n",
    "    return mid\n",
    "            \n",
    "\n",
    "    \n",
    "            \n",
    "        "
   ]
  },
  {
   "cell_type": "code",
   "execution_count": 38,
   "metadata": {},
   "outputs": [
    {
     "data": {
      "text/plain": [
       "0.13377582654356956"
      ]
     },
     "execution_count": 38,
     "metadata": {},
     "output_type": "execute_result"
    }
   ],
   "source": [
    "bisection_iv(100,100,0.05,1,callprice=8., putprice=None)"
   ]
  },
  {
   "cell_type": "code",
   "execution_count": 41,
   "metadata": {},
   "outputs": [
    {
     "data": {
      "text/plain": [
       "0.3170185871422291"
      ]
     },
     "execution_count": 41,
     "metadata": {},
     "output_type": "execute_result"
    }
   ],
   "source": [
    "bisection_iv(100,100,0.05,1,putprice=10., callprice=None)"
   ]
  },
  {
   "cell_type": "code",
   "execution_count": 42,
   "metadata": {},
   "outputs": [
    {
     "data": {
      "text/plain": [
       "7.9999999999999645"
      ]
     },
     "execution_count": 42,
     "metadata": {},
     "output_type": "execute_result"
    }
   ],
   "source": [
    "BlackScholesOptionPricing(OptionInputs(spot=100, strike=100, rate=0.05, ttm=1, volatility=0.13377582588953527)).call_price"
   ]
  },
  {
   "cell_type": "code",
   "execution_count": 43,
   "metadata": {},
   "outputs": [
    {
     "data": {
      "text/plain": [
       "10.000000045377952"
      ]
     },
     "execution_count": 43,
     "metadata": {},
     "output_type": "execute_result"
    }
   ],
   "source": [
    "BlackScholesOptionPricing(OptionInputs(spot=100, strike=100, rate=0.05, ttm=1, volatility=0.3170185871422291)).put_price"
   ]
  },
  {
   "cell_type": "code",
   "execution_count": 52,
   "metadata": {},
   "outputs": [
    {
     "name": "stdout",
     "output_type": "stream",
     "text": [
      "  option price    Delta      Gamma       Theta      Vega       rho        IV\n",
      "--------------  -------  ---------  ----------  --------  --------  --------\n",
      "       6.80496  0.70884  0.0342944  -0.0134758  0.342944  0.640791  0.133776\n"
     ]
    }
   ],
   "source": [
    "option = BlackScholesOptionPricing(OptionInputs(spot=100, strike = 100, rate=0.05, ttm = 1, volatility=0.10, callprice=8.))\n",
    "\n",
    "header = ['option price', 'Delta', 'Gamma', 'Theta', 'Vega', 'rho', 'IV']\n",
    "table = [[option.call_price, option.call_delta, option.gamma, option.call_theta, option.vega,option.call_rho, option.impvol]]\n",
    "\n",
    "print(tabulate(table,header))"
   ]
  },
  {
   "cell_type": "code",
   "execution_count": 53,
   "metadata": {},
   "outputs": [
    {
     "name": "stdout",
     "output_type": "stream",
     "text": [
      "  option price     Delta      Gamma         Theta      Vega        rho        IV\n",
      "--------------  --------  ---------  ------------  --------  ---------  --------\n",
      "        1.9279  -0.29116  0.0342944  -0.000445276  0.342944  -0.310439  0.317019\n"
     ]
    }
   ],
   "source": [
    "option = BlackScholesOptionPricing(OptionInputs(spot=100, strike = 100, rate=0.05, ttm = 1, volatility=0.10, putprice=10.))\n",
    "\n",
    "header = ['option price', 'Delta', 'Gamma', 'Theta', 'Vega', 'rho', 'IV']\n",
    "table = [[option.put_price, option.put_delta, option.gamma, option.put_theta, option.vega,option.put_rho, option.impvol]]\n",
    "\n",
    "print(tabulate(table,header))"
   ]
  },
  {
   "cell_type": "code",
   "execution_count": null,
   "metadata": {},
   "outputs": [],
   "source": []
  }
 ],
 "metadata": {
  "kernelspec": {
   "display_name": "Python 3",
   "language": "python",
   "name": "python3"
  },
  "language_info": {
   "codemirror_mode": {
    "name": "ipython",
    "version": 3
   },
   "file_extension": ".py",
   "mimetype": "text/x-python",
   "name": "python",
   "nbconvert_exporter": "python",
   "pygments_lexer": "ipython3",
   "version": "3.10.10"
  }
 },
 "nbformat": 4,
 "nbformat_minor": 2
}
